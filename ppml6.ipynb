{
  "nbformat": 4,
  "nbformat_minor": 0,
  "metadata": {
    "colab": {
      "provenance": [],
      "authorship_tag": "ABX9TyNub/Pq17vN0McbynlHiLRZ",
      "include_colab_link": true
    },
    "kernelspec": {
      "name": "python3",
      "display_name": "Python 3"
    },
    "language_info": {
      "name": "python"
    }
  },
  "cells": [
    {
      "cell_type": "markdown",
      "metadata": {
        "id": "view-in-github",
        "colab_type": "text"
      },
      "source": [
        "<a href=\"https://colab.research.google.com/github/220801117/220801117/blob/main/ppml6.ipynb\" target=\"_parent\"><img src=\"https://colab.research.google.com/assets/colab-badge.svg\" alt=\"Open In Colab\"/></a>"
      ]
    },
    {
      "cell_type": "code",
      "execution_count": null,
      "metadata": {
        "colab": {
          "base_uri": "https://localhost:8080/"
        },
        "id": "HhorIN_Vf4uY",
        "outputId": "61aa5467-e2ad-4404-9b9d-9fb1bfd89445"
      },
      "outputs": [
        {
          "output_type": "stream",
          "name": "stdout",
          "text": [
            "today-now function: 2024-05-30 03:17:04.273805\n",
            "\n",
            "today: 2024-05-30 03:17:04.274710\n",
            "\n",
            "tomorrow: 2024-05-31 03:17:04.274710\n",
            "\n",
            "yesterday 2024-05-29 03:17:04.274710\n",
            "\n",
            "date format[2020,6,8,23,10,25,404040]: 2020-06-08 23:10:25.404040\n",
            "\n",
            "replacing date: 2002-12-31 2002-12-26\n",
            "\n",
            "Day and Month: 2022-10-13 Thu Oct 13 00:00:00 2022\n",
            "\n",
            " today: 2024-05-30\n",
            "current year 2024\n",
            "current month 5\n",
            "current day 30\n"
          ]
        }
      ],
      "source": [
        "#TIME SERIES 1\n",
        "import datetime\n",
        "res=datetime.datetime.now()\n",
        "print(\"today-now function:\",res)\n",
        "\n",
        "today=datetime.datetime.today()\n",
        "print(\"\\ntoday:\",today)\n",
        "\n",
        "tomorrow=today+datetime.timedelta(days=1)\n",
        "print(\"\\ntomorrow:\",tomorrow)\n",
        "\n",
        "yesterday=today-datetime.timedelta(days=1)\n",
        "print(\"\\nyesterday\",yesterday)\n",
        "\n",
        "res=datetime.datetime.now()\n",
        "res1=datetime.datetime(2020,6,8,23,10,25,404040)\n",
        "print(\"\\ndate format[2020,6,8,23,10,25,404040]:\",res1)\n",
        "\n",
        "from datetime import date\n",
        "d=date(2002,12,31)\n",
        "print(\"\\nreplacing date:\",d,d.replace(day=26))\n",
        "\n",
        "t=date(2022,10,13)\n",
        "d=date(2022,10,13).ctime()\n",
        "print('\\nDay and Month:',t,d)\n",
        "\n",
        "#date object of the today's date\n",
        "today=date.today()\n",
        "print(\"\\n today:\",today)\n",
        "print('current year',today.year)\n",
        "print(\"current month\",today.month)\n",
        "print(\"current day\",today.day)"
      ]
    }
  ]
}