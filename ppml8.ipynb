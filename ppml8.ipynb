{
  "nbformat": 4,
  "nbformat_minor": 0,
  "metadata": {
    "colab": {
      "provenance": [],
      "authorship_tag": "ABX9TyO4G1594bzSxeanEy5nNSO+",
      "include_colab_link": true
    },
    "kernelspec": {
      "name": "python3",
      "display_name": "Python 3"
    },
    "language_info": {
      "name": "python"
    }
  },
  "cells": [
    {
      "cell_type": "markdown",
      "metadata": {
        "id": "view-in-github",
        "colab_type": "text"
      },
      "source": [
        "<a href=\"https://colab.research.google.com/github/220801117/220801117/blob/main/ppml8.ipynb\" target=\"_parent\"><img src=\"https://colab.research.google.com/assets/colab-badge.svg\" alt=\"Open In Colab\"/></a>"
      ]
    },
    {
      "cell_type": "code",
      "execution_count": 1,
      "metadata": {
        "id": "CD7JjH1HgoqE",
        "outputId": "9827f315-7617-4972-ef77-68e27fa8e684",
        "colab": {
          "base_uri": "https://localhost:8080/"
        }
      },
      "outputs": [
        {
          "output_type": "stream",
          "name": "stdout",
          "text": [
            "Date range:\n",
            " DatetimeIndex(['2020-08-15', '2020-08-16', '2020-08-17', '2020-08-18',\n",
            "               '2020-08-19', '2020-08-20', '2020-08-21', '2020-08-22',\n",
            "               '2020-08-23', '2020-08-24', '2020-08-25', '2020-08-26',\n",
            "               '2020-08-27', '2020-08-28', '2020-08-29', '2020-08-30',\n",
            "               '2020-08-31', '2020-09-01'],\n",
            "              dtype='datetime64[ns]', freq='D')\n",
            "\n",
            "Date range with periods and default day frequency:\n",
            " DatetimeIndex(['2020-07-15', '2020-07-16', '2020-07-17', '2020-07-18',\n",
            "               '2020-07-19', '2020-07-20', '2020-07-21', '2020-07-22',\n",
            "               '2020-07-23', '2020-07-24'],\n",
            "              dtype='datetime64[ns]', freq='D')\n",
            "\n",
            "Date range with periods and hour frequency:\n",
            " DatetimeIndex(['2020-07-15 00:00:00', '2020-07-15 01:00:00',\n",
            "               '2020-07-15 02:00:00', '2020-07-15 03:00:00',\n",
            "               '2020-07-15 04:00:00', '2020-07-15 05:00:00',\n",
            "               '2020-07-15 06:00:00', '2020-07-15 07:00:00',\n",
            "               '2020-07-15 08:00:00', '2020-07-15 09:00:00'],\n",
            "              dtype='datetime64[ns]', freq='H')\n",
            "\n",
            "Date range with periods and month frequency:\n",
            " PeriodIndex(['2020-10', '2020-11', '2020-12', '2021-01', '2021-02', '2021-03',\n",
            "             '2021-04', '2021-05', '2021-06', '2021-07'],\n",
            "            dtype='period[M]')\n",
            "\n",
            "Zero day with hour frequency periods:\n",
            " TimedeltaIndex(['0 days 00:00:00', '0 days 01:00:00', '0 days 02:00:00',\n",
            "                '0 days 03:00:00', '0 days 04:00:00', '0 days 05:00:00',\n",
            "                '0 days 06:00:00', '0 days 07:00:00'],\n",
            "               dtype='timedelta64[ns]', freq='H')\n"
          ]
        }
      ],
      "source": [
        "import pandas as pd\n",
        "import numpy as np\n",
        "from datetime import datetime\n",
        "ran=pd.date_range(\"2020-08-15\",\"2020-09-01\")\n",
        "print(\"Date range:\\n\",ran)\n",
        "ran=pd.date_range(\"2020-07-15\", periods=10)\n",
        "print(\"\\nDate range with periods and default day frequency:\\n\",ran)\n",
        "ran=pd.date_range(\"2020-07-15\", periods=10, freq='H')\n",
        "print(\"\\nDate range with periods and hour frequency:\\n\",ran)\n",
        "ran=pd.period_range(\"2020-10\", periods=10, freq=\"M\")\n",
        "print(\"\\nDate range with periods and month frequency:\\n\",ran)\n",
        "ran=pd.timedelta_range(0, periods=8, freq=\"H\")\n",
        "print(\"\\nZero day with hour frequency periods:\\n\",ran)"
      ]
    }
  ]
}