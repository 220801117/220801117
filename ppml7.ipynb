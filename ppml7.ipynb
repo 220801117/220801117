{
  "nbformat": 4,
  "nbformat_minor": 0,
  "metadata": {
    "colab": {
      "provenance": [],
      "authorship_tag": "ABX9TyMSn7sLF23nUK308TDyy82o",
      "include_colab_link": true
    },
    "kernelspec": {
      "name": "python3",
      "display_name": "Python 3"
    },
    "language_info": {
      "name": "python"
    }
  },
  "cells": [
    {
      "cell_type": "markdown",
      "metadata": {
        "id": "view-in-github",
        "colab_type": "text"
      },
      "source": [
        "<a href=\"https://colab.research.google.com/github/220801117/220801117/blob/main/ppml7.ipynb\" target=\"_parent\"><img src=\"https://colab.research.google.com/assets/colab-badge.svg\" alt=\"Open In Colab\"/></a>"
      ]
    },
    {
      "cell_type": "code",
      "execution_count": null,
      "metadata": {
        "id": "ux72n6-LgSMq"
      },
      "outputs": [],
      "source": [
        "#Time series 3\n",
        "import pandas as pd\n",
        "import numpy as np\n",
        "from datetime import datetime\n",
        "#create data variables\n",
        "dates=[datetime(2011,1,2),\n",
        "       datetime(2011,1,5),\n",
        "       datetime(2011,1,7),\n",
        "       datetime(2011,1,8),\n",
        "       datetime(2011,1,10),\n",
        "       datetime(2011,1,12)]\n",
        "\n",
        "ts=pd.Series(np.random.randn(6),index=dates)\n",
        "print(\"date index\\n\",ts)\n",
        "\n",
        "print(\"date index alone from series :\\n\",ts.index)\n",
        "stamp=ts.index[2]\n",
        "print(\"second index\",stamp)\n",
        "lts=pd.Series(np.random.randn(1000),\n",
        "              index=pd.date_range(\"2001-01-01\",periods=1000))\n",
        "print(\"\\n 1000 days\",lts)\n",
        "print(\"\\n -2001 year\",lts['2001'])\n",
        "print(\"\\n date range -05 month 2001 year \\n\",lts[\"2001-05\"])\n",
        "print(\"\\n date range -few dates in 2000 year:\\n\",lts[\"2001\"].head())\n",
        "print(\"\\n date range -first 15 dates in 2 months -2001 year:\\n\",lts[\"2002-02\"].head(15))\n",
        "print(\"\\n date range rom 26-9-2001:\\n\",lts[datetime(2000,9,26):])\n",
        "print(\"\\n date range from 26-9-2001 to 25-9-2002\",lts[datetime(2001,9,26):datetime(2000,9,25)])"
      ]
    }
  ]
}