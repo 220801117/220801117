{
  "nbformat": 4,
  "nbformat_minor": 0,
  "metadata": {
    "colab": {
      "provenance": [],
      "authorship_tag": "ABX9TyNwOa+OkAZvMo1W6CkPBOPb",
      "include_colab_link": true
    },
    "kernelspec": {
      "name": "python3",
      "display_name": "Python 3"
    },
    "language_info": {
      "name": "python"
    }
  },
  "cells": [
    {
      "cell_type": "markdown",
      "metadata": {
        "id": "view-in-github",
        "colab_type": "text"
      },
      "source": [
        "<a href=\"https://colab.research.google.com/github/220801117/220801117/blob/main/ppml9.ipynb\" target=\"_parent\"><img src=\"https://colab.research.google.com/assets/colab-badge.svg\" alt=\"Open In Colab\"/></a>"
      ]
    },
    {
      "cell_type": "code",
      "execution_count": 1,
      "metadata": {
        "id": "syc2J9eVhQ6p",
        "outputId": "f739638f-46a1-4f98-812e-6679b24ccba0",
        "colab": {
          "base_uri": "https://localhost:8080/"
        }
      },
      "outputs": [
        {
          "output_type": "stream",
          "name": "stdout",
          "text": [
            "\n",
            "With this date object, create a series with datetime index:\n",
            " 2020-01-05    0.348887\n",
            "2020-01-10   -0.593364\n",
            "2020-01-15   -1.222401\n",
            "2020-01-20   -0.643592\n",
            "2020-01-25    0.626914\n",
            "dtype: float64\n",
            "\n",
            "Truncate method to truncate datetime series:\n",
            " 2020-01-05    0.348887\n",
            "2020-01-10   -0.593364\n",
            "2020-01-15   -1.222401\n",
            "dtype: float64\n",
            "\n",
            "Date range with day periods:\n",
            " DatetimeIndex(['2022-10-02', '2022-10-09', '2022-10-16', '2022-10-23',\n",
            "               '2022-10-30', '2022-11-06', '2022-11-13', '2022-11-20',\n",
            "               '2022-11-27', '2022-12-04'],\n",
            "              dtype='datetime64[ns]', freq='W-SUN')\n",
            "\n",
            "Multi-column DateFrame with datetime index:\n",
            "                    A         B         C         D\n",
            "2022-10-02 -0.268647  1.929455  0.417141  0.130293\n",
            "2022-10-09 -1.704774  1.536732 -0.349111 -1.268905\n",
            "2022-10-16  0.422504  0.287948 -1.588075  1.735848\n",
            "2022-10-23  1.150663 -0.599956 -1.307006  0.915077\n",
            "2022-10-30  0.701846  1.151007 -0.924869 -0.402521\n",
            "2022-11-06 -0.197548  1.043208  2.431095 -0.352832\n",
            "2022-11-13 -1.085894  1.223213  1.085252  0.958036\n",
            "2022-11-20  1.807525 -0.120200  0.901773  1.541242\n",
            "2022-11-27  0.046025 -0.842205  0.415670 -0.135902\n",
            "2022-12-04 -0.110459 -0.635593  0.803505  0.432270\n",
            "\n",
            "Duplicate datetime index:\n",
            " 2020-01-01    0\n",
            "2020-01-02    1\n",
            "2020-01-02    2\n",
            "2020-01-02    3\n",
            "2020-01-03    4\n",
            "dtype: int64\n",
            "\n",
            "Repeated date counts:\n",
            " 2020-01-01    1\n",
            "2020-01-02    3\n",
            "2020-01-03    1\n",
            "dtype: int64\n"
          ]
        }
      ],
      "source": [
        "import pandas as pd\n",
        "import numpy as np\n",
        "from datetime import datetime\n",
        "#Let's create a date variable that contains the dates.\n",
        "dates = [datetime(2020,1,5),\n",
        "datetime(2020,1,10),\n",
        "datetime(2020,1,15),\n",
        "datetime(2020,1,20),\n",
        "datetime(2020,1,25)]\n",
        "#With this date object, create a series with datetime index.\n",
        "ts = pd.Series(np.random.randn(5), index=dates)\n",
        "print(\"\\nWith this date object, create a series with datetime index:\\n\",ts)\n",
        "#Truncate method to see the values between two dates\n",
        "res=ts.truncate(after=\"1/15/2020\")\n",
        "print(\"\\nTruncate method to truncate datetime series:\\n\",res)\n",
        "#let's create a variable named date with the date_range method.\n",
        "da=pd.date_range(\"10/1/2022\", periods=10, freq=\"W-SUN\")\n",
        "print(\"\\nDate range with day periods:\\n\",da)\n",
        "#Let's create a data frame that indexes this date variable.\n",
        "long_df=pd.DataFrame(np.random.randn(10,4), index=da, columns=list(\"ABCD\"))\n",
        "print(\"\\nMulti-column DateFrame with datetime index:\\n\",long_df)\n",
        "#In some cases, the dates can be repeated.\n",
        "date=pd.DatetimeIndex([\"1/1/2020\",\"1/2/2020\",\"1/2/2020\",\"1/2/2020\",\"1/3/2020\"])\n",
        "ts1=pd.Series(np.arange(5),index=date)\n",
        "print(\"\\nDuplicate datetime index:\\n\",ts1)\n",
        "#Let's find out repeated dates with the count method.\n",
        "group=ts1.groupby(level=0)\n",
        "print(\"\\nRepeated date counts:\\n\",group.count())"
      ]
    }
  ]
}