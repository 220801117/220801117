{
  "nbformat": 4,
  "nbformat_minor": 0,
  "metadata": {
    "colab": {
      "provenance": [],
      "authorship_tag": "ABX9TyNJ23v+SPkgICyJAIe340EY",
      "include_colab_link": true
    },
    "kernelspec": {
      "name": "python3",
      "display_name": "Python 3"
    },
    "language_info": {
      "name": "python"
    }
  },
  "cells": [
    {
      "cell_type": "markdown",
      "metadata": {
        "id": "view-in-github",
        "colab_type": "text"
      },
      "source": [
        "<a href=\"https://colab.research.google.com/github/220801117/220801117/blob/main/ppml12.ipynb\" target=\"_parent\"><img src=\"https://colab.research.google.com/assets/colab-badge.svg\" alt=\"Open In Colab\"/></a>"
      ]
    },
    {
      "cell_type": "code",
      "execution_count": null,
      "metadata": {
        "id": "ZmBIfcWbjSFt"
      },
      "outputs": [],
      "source": [
        "# Importing necessary libraries\n",
        "import pandas as pd\n",
        "from sklearn.cluster import KMeans\n",
        "import matplotlib.pyplot as plt\n",
        "\n",
        "# Load the dataset\n",
        "data = pd.read_excel('/content/mahi.xlsx')\n",
        "\n",
        "# Assuming 'X' contains features\n",
        "X = data[['signal', 'strength']]  # Features\n",
        "\n",
        "# Applying k-means clustering\n",
        "k = 3  # Number of clusters (you can adjust this)\n",
        "kmeans = KMeans(n_clusters=k)\n",
        "kmeans.fit(X)\n",
        "\n",
        "# Getting cluster labels\n",
        "cluster_labels = kmeans.labels_\n",
        "\n",
        "# Visualizing the clusters\n",
        "plt.scatter(X['signal'], X['strength'], c=cluster_labels, cmap='viridis')\n",
        "plt.xlabel('signal')\n",
        "plt.ylabel('strength')\n",
        "plt.title('K-means Clustering')\n",
        "plt.show()"
      ]
    }
  ]
}