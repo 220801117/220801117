{
  "nbformat": 4,
  "nbformat_minor": 0,
  "metadata": {
    "colab": {
      "provenance": [],
      "authorship_tag": "ABX9TyPRfZNyzN75mnYaPLJQbVSb",
      "include_colab_link": true
    },
    "kernelspec": {
      "name": "python3",
      "display_name": "Python 3"
    },
    "language_info": {
      "name": "python"
    }
  },
  "cells": [
    {
      "cell_type": "markdown",
      "metadata": {
        "id": "view-in-github",
        "colab_type": "text"
      },
      "source": [
        "<a href=\"https://colab.research.google.com/github/220801117/220801117/blob/main/ppml11.ipynb\" target=\"_parent\"><img src=\"https://colab.research.google.com/assets/colab-badge.svg\" alt=\"Open In Colab\"/></a>"
      ]
    },
    {
      "cell_type": "code",
      "execution_count": null,
      "metadata": {
        "colab": {
          "base_uri": "https://localhost:8080/"
        },
        "id": "IF4YBqrFIj0z",
        "outputId": "dbda25df-eb13-4992-b085-76a7c84a58bd"
      },
      "outputs": [
        {
          "output_type": "stream",
          "name": "stdout",
          "text": [
            "\n",
            " original dataframe\n",
            "      A      B  C  D  E\n",
            "0  foo    one  3  2  1\n",
            "1  foo    two  1  4  4\n",
            "2  bar  three  4  4  1\n",
            "3  foo    two  1  4  4\n",
            "4  bar    two  1  2  4\n",
            "5  foo    one  1  2  3\n"
          ]
        }
      ],
      "source": [
        "import pandas as pd\n",
        "import numpy as np\n",
        "\n",
        "\n",
        "df=pd.DataFrame({'A':['foo','foo','bar','foo','bar','foo'],\n",
        "                 'B':['one','two','three','two','two','one'],\n",
        "                 'C':np.random.randint(5,size=6),\n",
        "                 'D':np.random.randint(5,size=6),\n",
        "                 'E':np.random.randint(5,size=6)})\n",
        "print(\"\\n original dataframe\\n\",df)"
      ]
    }
  ]
}